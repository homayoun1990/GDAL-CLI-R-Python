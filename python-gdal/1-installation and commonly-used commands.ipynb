{
 "cells": [
  {
   "cell_type": "markdown",
   "metadata": {},
   "source": [
    "# Google Earth Engine Tutorial\n",
    "\n",
    "Welcome to my little Google Earth Engine walkthrough. We'll go through some of the basic API features, as well as look at some of my helper function.\n",
    "\n",
    "## Setup\n",
    "The first step is to set up the GEE environment."
   ]
  },
  {
   "cell_type": "code",
   "execution_count": null,
   "metadata": {},
   "outputs": [],
   "source": [
    "# Tell Jupyter to show images in this browser window Matlab style instead of popping out\n",
    "%matplotlib inline\n",
    "\n",
    "# debugging flags. Reloads include files every execution.\n",
    "%load_ext autoreload \n",
    "%autoreload 2\n",
    "\n",
    "import pprint\n",
    "pp = pprint.PrettyPrinter(indent=4)\n",
    "import matplotlib.pyplot as plt\n",
    "import matplotlib.image as mpimg\n",
    "\n",
    "# Import the Google Earth Engine Library\n",
    "import ee\n",
    "\n",
    "# And all my helper functions:\n",
    "from gee_library import *\n",
    "\n",
    "# This command initializes the library and connects to Google's servers.\n",
    "ee.Initialize()\n",
    "\n",
    "# Now we'll load up some satelite imagery of Monterey, collected by the USDA Farm Service Agency.\n",
    "# Don't worry too much about the details; just make sure an image appears below to confirm\n",
    "# that your installation is working.\n",
    "nps_bounds = bound_geometry(\n",
    "                        (-121.880742, 36.600885),\n",
    "                        (-121.866788, 36.594170))\n",
    "tiles = img_at_region(ee.ImageCollection('USDA/NAIP/DOQQ'), 5, ['R'], nps_bounds)\n",
    "plt.imshow(tiles['R'], cmap='gray')\n",
    "plt.show()"
   ]
  },
  {
   "cell_type": "code",
   "execution_count": null,
   "metadata": {},
   "outputs": [],
   "source": [
    "\n",
    "# First we create load a collection from the GEE database. \n",
    "world_collection = ee.ImageCollection('USDA/NAIP/DOQQ')\n",
    "\n",
    "# An ee.ImageCollection is a collection of images. Each image contains certain spectrum bands. The\n",
    "# world_collection we just created has thousands of images included in it; operating on such a large\n",
    "# collection takes a long time. But we aren't interested in the whole world. We're just interested\n",
    "# in a small area. Let's pare down the collection.\n",
    "\n",
    "# We have to create an official ee.Geomtery object to communicate to Google Earth Engine the\n",
    "# spatial bounds that we are interested in. I created a helper (factory?) function that creates \n",
    "# this object. \n",
    "nps_bounds = bound_geometry(\n",
    "                        (-121.880742, 36.600885),\n",
    "                        (-121.866788, 36.594170))\n",
    "\n",
    "\n",
    "# We can use that object to apply a filter to the world_collection to only include images\n",
    "# that intersect the spatial bounds we define.   \n",
    "monterey_collection = world_collection.filterBounds(nps_bounds)\n",
    "\n",
    "# And then only select images taken in 2016. The first date given to ee.Filter.date is inclusive, the\n",
    "# second date is exclusive (much like Python's range function).\n",
    "monterey_collection_2016 = monterey_collection.filter(ee.Filter.date('2016-01-01', '2017-01-01'))\n",
    "\n",
    "\n",
    "print collection_length(monterey_collection_2016), \"images available in monterey_collection.\"\n",
    "\n",
    "# Ok, so 2 images were taken in 2016. Which dates were these images taken? I've created a helper function to query\n",
    "# which dates are available in a collection.\n",
    "dates_of_images = dates_available(monterey_collection_2016)\n",
    "print \"Dates available:\",dates_of_images\n",
    "\n",
    "# I also created a function to query which bands are available in a collection.\n",
    "available_bands_in_monterey = available_bands(monterey_collection_2016)\n",
    "for k, v in available_bands_in_monterey.items():\n",
    "    print \"Band\", k, \"is available in\", v['number_available'], \"images. (\", v['percent_available'], \"%)\"\n",
    "    \n",
    "# This imagery is available in 4 bands: R (red), G (green), B(blue), and N (near-IR)"
   ]
  },
  {
   "cell_type": "markdown",
   "metadata": {},
   "source": [
    "### Import fusion table in GEE"
   ]
  },
  {
   "cell_type": "code",
   "execution_count": null,
   "metadata": {},
   "outputs": [],
   "source": [
    "fusion_table = ee.FeatureCollection('ft:10X7SUjDTiFJDyIA58zLcptK8pwBwjj1BV12SQOgJ')"
   ]
  },
  {
   "cell_type": "markdown",
   "metadata": {},
   "source": [
    "## Displaying Imagery\n",
    "\n",
    "Now that we've explored which images and bands are available in this collection, let's look at some of them.\n",
    "\n",
    "We'll try to load the most recent imagery first, then compare it with the older imagery."
   ]
  },
  {
   "cell_type": "code",
   "execution_count": null,
   "metadata": {},
   "outputs": [],
   "source": [
    "# When loading imagery, we have to decide which resolution we want, measured in meters per pixel.\n",
    "# I created a helper function that, given a geometry bound box and resolution, will estimate the\n",
    "# image size that will result. (Pulling too large of an image will often result in error/failure.)\n",
    "# Note that this is very rough estimate and has some projection issues right now.\n",
    "estimated_size = estimate_image_size_at_resolution(nps_bounds, 5)\n",
    "print \"At 5 meters/pixel, nps_bounds measures\", estimated_size\n",
    "\n",
    "# Load the most recent imagery\n",
    "print \"Imagery of NPS, taken at 2016-07-12\"\n",
    "new_monterey_collection = monterey_collection.filter(ee.Filter.date('2016-07-12'))\n",
    "tiles = img_at_region(new_monterey_collection, 5, 'R', nps_bounds)\n",
    "plt.imshow(tiles['R'], cmap='gray'); plt.show()\n",
    "\n",
    "# It looks like the imagery from that day only includes part of our FOV.\n",
    "# Let's also include the second-most recent image, and let Google fuse them together. (Remember,\n",
    "# the second date in the range is exclusive.)\n",
    "print \"Fusing images from 2016-06-19 and 2016-07-12 by specifying the range 2016-06-19 - 2016-07-13\"\n",
    "new_monterey_collection = monterey_collection.filter(ee.Filter.date('2016-06-19', '2016-07-13'))\n",
    "tiles_combined = img_at_region(new_monterey_collection, 5, 'R', nps_bounds)\n",
    "plt.imshow(tiles_combined['R'], cmap='gray'); plt.show()\n",
    "\n",
    "# Let's compare this with the earliest snapshots.\n",
    "print \"Imagery from 2005\"\n",
    "old_monterey_collection = monterey_collection.filter(ee.Filter.date('2005-01-01', '2006-01-01'))\n",
    "tiles_combined = img_at_region(old_monterey_collection, 5, 'R', nps_bounds)\n",
    "plt.imshow(tiles_combined['R'], cmap='gray'); plt.show()\n",
    "\n"
   ]
  },
  {
   "cell_type": "markdown",
   "metadata": {},
   "source": [
    "## Combining bands\n",
    "\n",
    "We've been pulling only the R band so far, and displaying it as a grayscale image. We can combine multiple bands into a single image as well. Since the choice of bands and their order are very application-specific, I haven't provided any helper functions to do it for us, but don't worry, it's easy!"
   ]
  },
  {
   "cell_type": "code",
   "execution_count": null,
   "metadata": {},
   "outputs": [],
   "source": [
    "# We'll import numpy to help with the matrix operations.\n",
    "import numpy as np\n",
    "\n",
    "# Let's download the bands in the visible spectrum.\n",
    "tiles = img_at_region(new_monterey_collection, 3, ['R','G', 'B'], nps_bounds)\n",
    "\n",
    "# Numpy can stack 2 dimentional images in a 3rd dimention using the command dstack. Note that the output of the command\n",
    "# is a numpy array, not a traditional python List. This is a detail that won't affect us here but might trip you\n",
    "# up if your script calls List specific functions like len().\n",
    "img = np.dstack((tiles['R'], tiles['G'], tiles['B']))\n",
    "\n",
    "# We plot it the same way, but the cmap parameter is uneccessary since matplotlib will use true colors.\n",
    "plt.imshow(img); plt.show()\n",
    "\n",
    "print img.shape\n"
   ]
  },
  {
   "cell_type": "markdown",
   "metadata": {},
   "source": [
    "## Pulling images with specific dimentions\n",
    "\n",
    "A lot of analytics require that the data be supplied at constant dimentions. When working with satelite imagery this constraint applies twice: constant spatial extent and constant pixel dimentions.\n",
    "\n",
    "I've created a function that is able to solve the first of these constraints although I'm still working on the second. I have one solution below."
   ]
  },
  {
   "cell_type": "code",
   "execution_count": null,
   "metadata": {},
   "outputs": [],
   "source": [
    "import scipy.misc\n",
    "\n",
    "\n",
    "nps_center = [ -121.873925, 36.596853]\n",
    "\n",
    "\n",
    "# I've created a function that calculates a square geometry with equal height and width in meters. Since the\n",
    "# function uses a radius to calculate distance, it requires a half_distance parameter, which defines half the\n",
    "# length of each side of the square. Below we request a geometry that desribes a square patch of land, centered\n",
    "# at NPS, measureing 900 meters on easch side.\n",
    "tile_bounds = square_centered_at(\n",
    "    point = nps_center,\n",
    "    half_distance = 450\n",
    ")\n",
    "\n",
    "# We can use that geometry to request imagery the same way as before. Since our patch is 900 meters on every side,\n",
    "# requesting a resolution of 3 meters per pixel should result in an image that is 300x300 pixels.\n",
    "tiles = img_at_region(monterey_collection, 3, ['R'], tile_bounds)\n",
    "\n",
    "# We'll convert the image into a Numpy array and look at the dimentions.\n",
    "img = np.array(tiles['R'])\n",
    "print \"The image has dimentions\", img.shape,\"; we expected (300, 300)\"\n",
    "\n",
    "# Hmm, I don't know why the width always overshoots. Probably something to do with the projection.\n",
    "# We'll fix that (as well as the pixel or two difference in the other axis) by resizing using bilinear interpolation.\n",
    "img = scipy.misc.imresize(img, (300, 300))\n",
    "print \"After interpolation, the image has dimentions\", img.shape\n",
    "\n",
    "plt.imshow(img, cmap='gray'); plt.show()\n"
   ]
  }
 ],
 "metadata": {
  "kernelspec": {
   "display_name": "Python 3",
   "language": "python",
   "name": "python3"
  },
  "language_info": {
   "codemirror_mode": {
    "name": "ipython",
    "version": 3
   },
   "file_extension": ".py",
   "mimetype": "text/x-python",
   "name": "python",
   "nbconvert_exporter": "python",
   "pygments_lexer": "ipython3",
   "version": "3.7.3"
  }
 },
 "nbformat": 4,
 "nbformat_minor": 2
}
