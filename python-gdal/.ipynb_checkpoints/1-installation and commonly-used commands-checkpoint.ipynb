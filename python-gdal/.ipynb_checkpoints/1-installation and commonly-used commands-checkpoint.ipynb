{
 "cells": [
  {
   "cell_type": "markdown",
   "metadata": {},
   "source": [
    "# The Geospatial Data Abstraction Library(GDAL)\n",
    "\n",
    "Welcome to my little The Geospatial Data Abstraction Library(GDAL) walkthrough. We'll go through installatin gdal in python, as well as look at some of basic features.\n",
    "\n",
    "## Setup\n",
    "The first step is to set up the gdal."
   ]
  },
  {
   "cell_type": "code",
   "execution_count": null,
   "metadata": {},
   "outputs": [],
   "source": []
  },
  {
   "cell_type": "code",
   "execution_count": null,
   "metadata": {},
   "outputs": [],
   "source": [
    "fusion_table = ee.FeatureCollection('ft:10X7SUjDTiFJDyIA58zLcptK8pwBwjj1BV12SQOgJ')"
   ]
  },
  {
   "cell_type": "markdown",
   "metadata": {},
   "source": [
    "## Displaying Imagery\n",
    "\n",
    "Now that we've explored which images and bands are available in this collection, let's look at some of them.\n",
    "\n",
    "We'll try to load the most recent imagery first, then compare it with the older imagery."
   ]
  },
  {
   "cell_type": "markdown",
   "metadata": {},
   "source": [
    "## Combining bands\n",
    "\n",
    "We've been pulling only the R band so far, and displaying it as a grayscale image. We can combine multiple bands into a single image as well. Since the choice of bands and their order are very application-specific, I haven't provided any helper functions to do it for us, but don't worry, it's easy!"
   ]
  },
  {
   "cell_type": "markdown",
   "metadata": {},
   "source": [
    "## Pulling images with specific dimentions\n",
    "\n",
    "A lot of analytics require that the data be supplied at constant dimentions. When working with satelite imagery this constraint applies twice: constant spatial extent and constant pixel dimentions.\n",
    "\n",
    "I've created a function that is able to solve the first of these constraints although I'm still working on the second. I have one solution below."
   ]
  }
 ],
 "metadata": {
  "kernelspec": {
   "display_name": "Python 3",
   "language": "python",
   "name": "python3"
  },
  "language_info": {
   "codemirror_mode": {
    "name": "ipython",
    "version": 3
   },
   "file_extension": ".py",
   "mimetype": "text/x-python",
   "name": "python",
   "nbconvert_exporter": "python",
   "pygments_lexer": "ipython3",
   "version": "3.7.4"
  }
 },
 "nbformat": 4,
 "nbformat_minor": 2
}
