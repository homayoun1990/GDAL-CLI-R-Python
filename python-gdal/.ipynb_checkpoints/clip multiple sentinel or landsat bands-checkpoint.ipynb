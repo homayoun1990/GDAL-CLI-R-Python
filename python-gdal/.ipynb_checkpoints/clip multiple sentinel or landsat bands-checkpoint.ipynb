{
 "cells": [
  {
   "cell_type": "markdown",
   "metadata": {},
   "source": [
    "## How to clip multiple Landsat Bands with Python and GDAL"
   ]
  },
  {
   "cell_type": "markdown",
   "metadata": {},
   "source": [
    "#### Import requires libraries\n",
    "This tutorial only requires the GDAL library and core Python libraries as the Operating System (OS) library."
   ]
  },
  {
   "cell_type": "code",
   "execution_count": 1,
   "metadata": {},
   "outputs": [],
   "source": [
    "from osgeo import gdal\n",
    "import os"
   ]
  },
  {
   "cell_type": "code",
   "execution_count": 5,
   "metadata": {},
   "outputs": [
    {
     "name": "stdout",
     "output_type": "stream",
     "text": [
      "C:\\Users\\pc\\GDAL-CLI-R-Python\n"
     ]
    }
   ],
   "source": [
    "cd .."
   ]
  },
  {
   "cell_type": "code",
   "execution_count": 6,
   "metadata": {},
   "outputs": [
    {
     "name": "stdout",
     "output_type": "stream",
     "text": [
      " Volume in drive C has no label.\n",
      " Volume Serial Number is 9AE4-4B22\n",
      "\n",
      " Directory of C:\\Users\\pc\\GDAL-CLI-R-Python\n",
      "\n",
      "05/03/2020  09:18 AM    <DIR>          .\n",
      "05/03/2020  09:18 AM    <DIR>          ..\n",
      "05/03/2020  09:18 AM    <DIR>          cli-gdal\n",
      "05/03/2020  09:18 AM    <DIR>          data\n",
      "05/03/2020  09:18 AM    <DIR>          js-gdal\n",
      "05/03/2020  10:40 AM    <DIR>          python-gdal\n",
      "05/03/2020  09:18 AM               914 README.md\n",
      "05/03/2020  09:18 AM    <DIR>          r-gdal\n",
      "               1 File(s)            914 bytes\n",
      "               7 Dir(s)  57,810,718,720 bytes free\n"
     ]
    }
   ],
   "source": [
    "ls"
   ]
  },
  {
   "cell_type": "code",
   "execution_count": 11,
   "metadata": {},
   "outputs": [
    {
     "data": {
      "text/plain": [
       "'C:\\\\Users\\\\pc\\\\GDAL-CLI-R-Python\\\\data'"
      ]
     },
     "execution_count": 11,
     "metadata": {},
     "output_type": "execute_result"
    }
   ],
   "source": [
    "pwd"
   ]
  },
  {
   "cell_type": "code",
   "execution_count": 12,
   "metadata": {},
   "outputs": [],
   "source": [
    "#Input and output paths\n",
    "#inputPath = '../Images/'\n",
    "inputPath = 'C:/Users/pc/GDAL-CLI-R-Python/data'\n",
    "outputPath = 'C:/Users/pc/GDAL-CLI-R-Python/data/Output/'\n"
   ]
  },
  {
   "cell_type": "code",
   "execution_count": 14,
   "metadata": {},
   "outputs": [],
   "source": [
    "#Input Raster and Vector Paths\n",
    "bandList = [band for band in os.listdir(inputPath) if band[-4:]=='.TIF']\n",
    "bandList"
   ]
  },
  {
   "cell_type": "code",
   "execution_count": null,
   "metadata": {},
   "outputs": [],
   "source": [
    "#Shapefile of Area of Influence\n",
    "# load your shapefile to clip the image\n",
    "shp_clip = '../Shp/AOI_1.shp'"
   ]
  },
  {
   "cell_type": "markdown",
   "metadata": {},
   "source": [
    "##### Warp Rasters\n",
    "We clip all the selected raster files with the Warp option from GDAL"
   ]
  },
  {
   "cell_type": "code",
   "execution_count": null,
   "metadata": {},
   "outputs": [],
   "source": [
    "for band in bandList:\n",
    "    out = outputPath + band[:-4]+'_c2'+band[-4:]\n",
    "    print(out)\n",
    "    options = gdal.WarpOptions(cutlineDSName=shp_clip,cropToCutline=True)\n",
    "    outBand = gdal.Warp(srcDSOrSrcDSTab=inputPath + band,\n",
    "                        destNameOrDestDS=out,\n",
    "                        options=options)\n",
    "    outBand= None"
   ]
  },
  {
   "cell_type": "code",
   "execution_count": null,
   "metadata": {},
   "outputs": [],
   "source": []
  }
 ],
 "metadata": {
  "kernelspec": {
   "display_name": "Python 3",
   "language": "python",
   "name": "python3"
  },
  "language_info": {
   "codemirror_mode": {
    "name": "ipython",
    "version": 3
   },
   "file_extension": ".py",
   "mimetype": "text/x-python",
   "name": "python",
   "nbconvert_exporter": "python",
   "pygments_lexer": "ipython3",
   "version": "3.7.4"
  }
 },
 "nbformat": 4,
 "nbformat_minor": 2
}
